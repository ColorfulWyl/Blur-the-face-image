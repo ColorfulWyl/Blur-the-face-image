{
 "cells": [
  {
   "cell_type": "code",
   "execution_count": 1,
   "id": "fb5dcca6",
   "metadata": {},
   "outputs": [],
   "source": [
    "import numpy as np\n",
    "import cv2"
   ]
  },
  {
   "cell_type": "code",
   "execution_count": null,
   "id": "efb2417c",
   "metadata": {},
   "outputs": [],
   "source": [
    "# 读取图像\n",
    "image = cv2.imread('art.jpg')\n",
    "kernel = np.array([1, 4, 6, 4, 1], dtype=np.float32)/16\n",
    "# 对每个颜色通道进行滤波\n",
    "filtered_image = cv2.filter2D(image, -1, kernel=kernel)\n",
    "\n",
    "# # 显示原始图像和滤波后的图像\n",
    "cv2.imshow('Original Image', image)\n",
    "cv2.imshow('Filtered Image', filtered_image)\n",
    "cv2.waitKey(0)\n",
    "cv2.destroyAllWindows()"
   ]
  },
  {
   "cell_type": "code",
   "execution_count": 2,
   "id": "49bf6f47",
   "metadata": {},
   "outputs": [],
   "source": [
    "resized_image = cv2.resize(filtered_image, None, fx=0.5, fy=0.5)\n",
    "cv2.imshow('downsampling image', resized_image)\n",
    "cv2.waitKey(0)  # 等待键盘输入\n",
    "cv2.destroyAllWindows()"
   ]
  },
  {
   "cell_type": "code",
   "execution_count": 2,
   "id": "700d1dba",
   "metadata": {},
   "outputs": [],
   "source": [
    "def low_pass_binomial_filter(image,kernel):\n",
    "    # 对每个颜色通道进行滤波 Filter each color channel of the image\n",
    "    filtered_image = cv2.filter2D(image, -1, kernel=kernel) # -1 means the filtered image use the same depth as the original image\n",
    "    cv2.imshow('Original Image', image)\n",
    "    cv2.imshow('Filtered Image', filtered_image)\n",
    "    cv2.waitKey(0)\n",
    "    cv2.destroyAllWindows()\n",
    "    return filtered_image\n",
    "\n",
    "def downsampling(image,rate):\n",
    "    resized_image = cv2.resize(image, None, fx=rate, fy=rate)\n",
    "    cv2.imshow('downsampling image', resized_image)\n",
    "    cv2.waitKey(0)  # 等待键盘输入\n",
    "    cv2.destroyAllWindows()\n",
    "    return resized_image\n",
    "\n",
    "def save_image(image,image_name):\n",
    "    cv2.imwrite(image_name, image)\n",
    "    \n",
    "def set_as_uint8(image):\n",
    "    if image.dtype != 8:\n",
    "        image = image.astype('uint8')\n",
    "    return image\n",
    "\n",
    "def upsampling(image,width,height):\n",
    "    upsampled_image = cv2.resize(image, (width, height), interpolation=cv2.INTER_LINEAR) #using bilinear interpolation to upsampling\n",
    "    return upsampled_image\n"
   ]
  },
  {
   "cell_type": "code",
   "execution_count": 3,
   "id": "e67bf885",
   "metadata": {},
   "outputs": [],
   "source": [
    "image = cv2.imread('AF01SAS.JPG')\n",
    "filtered_image = low_pass_binomial_filter(image,kernel = np.array([1, 4, 6, 4, 1], dtype=np.float32)/16)"
   ]
  },
  {
   "cell_type": "code",
   "execution_count": 6,
   "id": "a77a8615",
   "metadata": {},
   "outputs": [],
   "source": [
    "resized_image = downsampling(filtered_image,0.25)"
   ]
  },
  {
   "cell_type": "code",
   "execution_count": 7,
   "id": "6081f3cd",
   "metadata": {},
   "outputs": [],
   "source": [
    "save_image(resized_image,'new_art.jpg')"
   ]
  },
  {
   "cell_type": "code",
   "execution_count": 8,
   "id": "2e5149ac",
   "metadata": {},
   "outputs": [],
   "source": [
    "# resized_image = upsampling(resized_image,width = resized_image.shape[1] * 2,height = resized_image.shape[0] * 2)\n",
    "resized_image = upsampling(resized_image,width =256,height = 256)\n",
    "cv2.imshow('upsampling image', resized_image)\n",
    "cv2.waitKey(0)  # 等待键盘输入\n",
    "cv2.destroyAllWindows()"
   ]
  },
  {
   "cell_type": "code",
   "execution_count": null,
   "id": "ac751741",
   "metadata": {},
   "outputs": [],
   "source": []
  }
 ],
 "metadata": {
  "kernelspec": {
   "display_name": "Python 3 (ipykernel)",
   "language": "python",
   "name": "python3"
  },
  "language_info": {
   "codemirror_mode": {
    "name": "ipython",
    "version": 3
   },
   "file_extension": ".py",
   "mimetype": "text/x-python",
   "name": "python",
   "nbconvert_exporter": "python",
   "pygments_lexer": "ipython3",
   "version": "3.11.4"
  }
 },
 "nbformat": 4,
 "nbformat_minor": 5
}
